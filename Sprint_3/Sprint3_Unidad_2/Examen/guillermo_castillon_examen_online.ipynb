{
 "cells": [
  {
   "cell_type": "markdown",
   "id": "1f1401c1-4dc9-4902-95bf-160715a42a25",
   "metadata": {},
   "source": [
    "# Prueba de Ramp-up"
   ]
  },
  {
   "cell_type": "markdown",
   "id": "1b34c670-a6dd-482d-9b04-5babee7be17a",
   "metadata": {},
   "source": [
    "Antes de comenzar, cambia el nombre del archivo notebook poniéndole delante tu nombre y primer apellido:\n",
    "\n",
    "* ``<nombre_apellido>_examen_online.ipynb``"
   ]
  },
  {
   "cell_type": "code",
   "execution_count": 55,
   "id": "c8d9a657-272c-425a-9ac4-ea59f479673c",
   "metadata": {},
   "outputs": [],
   "source": [
    "# Escribe tu nombre en la variable:\n",
    "nombre_y_apellidos = \"Guillermo_Castillon\" "
   ]
  },
  {
   "cell_type": "code",
   "execution_count": 56,
   "id": "2e9f9af5-076c-44ec-9a80-95c0e99cdc58",
   "metadata": {},
   "outputs": [],
   "source": [
    "\"\"\"\n",
    "Criterios de corrección:\n",
    "\n",
    "ejecución (ausencia de errores y obtención de resultados)\n",
    "estructura del código\n",
    "uso correcto de variables\n",
    "manejo de tipo de variables\n",
    "asignaciones\n",
    "operaciones booleanas\n",
    "manejo lógico de flujos de control y bucles\n",
    "uso de colecciones\n",
    "uso de funciones\n",
    "\"\"\";\n",
    "\n",
    "# Ejemplo de como queremos ver el código para más de un intento:\n",
    "\n",
    "# intento 1\n",
    "#your code\n",
    "\n",
    "# intento 2\n",
    "#your code"
   ]
  },
  {
   "cell_type": "code",
   "execution_count": 57,
   "id": "bb16d0e3-3bb9-4f2b-944e-8fc35e628701",
   "metadata": {},
   "outputs": [],
   "source": [
    "# crea todas las celdas que necesites"
   ]
  },
  {
   "cell_type": "markdown",
   "id": "9e02b8f5-6f66-4e73-acfa-7f8c3977de2a",
   "metadata": {},
   "source": [
    "#### Notas y pruebas de apoyo para contestar las preguntas\n",
    "\n",
    "\n",
    "Cualquier código aunque no esté correcto nos dirá más de ti que no escribir nada. "
   ]
  },
  {
   "cell_type": "markdown",
   "id": "57d6b062-27f8-4377-b583-d662777b0bd7",
   "metadata": {},
   "source": [
    "__Debes subir este notebook a tu REPO PERSONAL__\n",
    "\n",
    "__Hora: hasta las 13:30 del 06/11/2024__"
   ]
  },
  {
   "cell_type": "markdown",
   "id": "062d81e8",
   "metadata": {},
   "source": [
    "#### Ejercicio 1\n",
    "\n",
    "Disponemos de una lista con información sobre varios empleados:\n",
    "\n",
    "    empleados = \n",
    "    [[12345, \"Juan Rodríguez\", 53, [\"Director financiero\"], 2],[56789, \"Laura Pérez\", 41, [\"CEO\", \"Director\", \"Gerente\"], 2],[88354, \"Pedro Álvarez\", 26, [\"Asistente\",\"Gestor comercial\"], 3]]\n",
    "\n",
    "Respecto de cada empleado, la lista contiene cinco elementos: en el primero almacenamos su tfno, en el segundo su nombre, en el tercero su edad, en el cuarto los puestos que ha desempeñado en la empresa (en forma de lista) y en el quinto su código postal.\n",
    "\n",
    "1. Siguiendo la misma estructura, incluye un nuevo empleado en la última posición de la lista empleados.\n",
    "\n",
    "2. Mostrar por pantalla, sin uso de funciones (salvo print) ni bucles: \n",
    "\n",
    "    - El nombre y la edad del tercer empleado de la lista empleados.\n",
    "    - Los puestos desempeñados por Pedro Álvarez, ordenados de atras a adelante (es decir, de Gestor comercial a Asistente)\n",
    "    - Si el nuevo empleado que has añadido tiene más o igual a 60 años, muestra por pantalla los puestos que el nuevo empleado haya desempeñado en la empresa. En caso contrario, muestra los puestos desempeñados por Laura Pérez y Juan Rodriguez."
   ]
  },
  {
   "cell_type": "code",
   "execution_count": 58,
   "id": "35f06e09",
   "metadata": {},
   "outputs": [
    {
     "name": "stdout",
     "output_type": "stream",
     "text": [
      "[[12345, 'Juan Rodríguez', 53, ['Director financiero'], 2], [56789, 'Laura Pérez', 41, ['CEO', 'Director', 'Gerente'], 2], [88354, 'Pedro Álvarez', 26, ['Asistente', 'Gestor comercial'], 3], [88888, 'Jhon Serranito', 37, ['Alfarero', 'Peluquero perruno'], 6]]\n"
     ]
    }
   ],
   "source": [
    "#1 nuevo empleado, uso de append\n",
    "empleados = [[12345, \"Juan Rodríguez\", 53, [\"Director financiero\"], 2],[56789, \"Laura Pérez\", 41, [\"CEO\", \"Director\", \"Gerente\"], 2],[88354, \"Pedro Álvarez\", 26, [\"Asistente\",\"Gestor comercial\"], 3]]\n",
    "empleados.append([88888, \"Jhon Serranito\", 37,[\"Alfarero\",\"Peluquero perruno\"], 6])\n",
    "print(empleados)"
   ]
  },
  {
   "cell_type": "code",
   "execution_count": 59,
   "id": "0bbd998c",
   "metadata": {},
   "outputs": [
    {
     "name": "stdout",
     "output_type": "stream",
     "text": [
      "El tercer empleado es Pedro Álvarez y tiene 26 años\n",
      "['Gestor comercial', 'Asistente']\n",
      "Puestos desmpeñados por Laura Pérez ['CEO', 'Director', 'Gerente']\n",
      "Puestos desmpeñados por Juan Rodríguez ['Director financiero']\n"
     ]
    }
   ],
   "source": [
    "#2 slicing, vistas.\n",
    "print(f\"El tercer empleado es {empleados[2][1]} y tiene {empleados[2][2]} años\")\n",
    "print(empleados[2][3][::-1]) #último corchete invierte la dirección de muestra de la lista de puestos\n",
    "if empleados[3][2]>=60: #Lo uso para comprobar la edad del trabajador que anñadí\n",
    "    print(f\"Puestos desmpeñados por {empleados[3][1]} {empleados[3][3]}\")\n",
    "else: \n",
    "    print(f\"Puestos desmpeñados por {empleados[1][1]} {empleados[1][3]}\")\n",
    "    print(f\"Puestos desmpeñados por {empleados[0][1]} {empleados[0][3]}\")\n"
   ]
  },
  {
   "cell_type": "code",
   "execution_count": null,
   "id": "ae316b4b",
   "metadata": {},
   "outputs": [],
   "source": []
  },
  {
   "cell_type": "markdown",
   "id": "4da89624-0da3-4f91-aa5c-a084c5ee1b17",
   "metadata": {},
   "source": [
    "#### Ejercicio 2. \n",
    "\n",
    "Escribe un programa que te diga si una letra es una consonante o una vocal. Crea tu propia **FUNCIÓN**\n"
   ]
  },
  {
   "cell_type": "code",
   "execution_count": 60,
   "id": "d286dcb3",
   "metadata": {},
   "outputs": [],
   "source": [
    "def tipoletra(letra):\n",
    "    if letra in [\"a\",\"e\",\"i\",\"o\",\"u\"]:\n",
    "        print(f\"{letra} es una vocal\")\n",
    "    else:\n",
    "        print(f\"{letra} es una consonante\")"
   ]
  },
  {
   "cell_type": "code",
   "execution_count": 61,
   "id": "02d0d778",
   "metadata": {},
   "outputs": [
    {
     "name": "stdout",
     "output_type": "stream",
     "text": [
      "i es una vocal\n",
      "m es una consonante\n",
      "o es una vocal\n",
      "f es una consonante\n"
     ]
    }
   ],
   "source": [
    "tipoletra(\"i\")\n",
    "tipoletra(\"m\")\n",
    "tipoletra(\"o\")\n",
    "tipoletra(\"f\")"
   ]
  },
  {
   "cell_type": "code",
   "execution_count": null,
   "id": "c58bf610-92de-4a5a-a00d-652279ea33dd",
   "metadata": {},
   "outputs": [],
   "source": []
  },
  {
   "cell_type": "markdown",
   "id": "52065a6c-3d4c-44c0-a10b-958506c481b3",
   "metadata": {},
   "source": [
    "#### Ejercicio 3. \n",
    "\n",
    "Escribe un programa que calcule la edad humana de un perro.\n",
    "Tienes que pedirle al usuario la edad del perro en años.\n",
    "Si el usuario introduce un número negativo, imprime que la cifra facilitada no tiene sentido. Si el perro tiene un año, son 14 años humanos. Si tiene 2 años, son 22 años humanos.\n",
    "A partir de los 2 años, el cálculo es el siguiente: a la edad del perro se le restan 2 años, el resultado se multiplica por 5 y, finalmente, se le suma 22.\n",
    "Usa una función sin argumentos de entrada ni de salida (muestra toda la información con print())"
   ]
  },
  {
   "cell_type": "code",
   "execution_count": 62,
   "id": "312b2722",
   "metadata": {},
   "outputs": [],
   "source": [
    "def edad_humana(años): #definición de funcion con comprobaciones if y elif para ejecutar diferentes vías según la edad del perro.\n",
    "    if años<=0:\n",
    "        print(\"la cifra facilitada no tiene sentido\")\n",
    "    elif años==1:\n",
    "        print(f\"Edad humana 14\")\n",
    "    elif años==2:\n",
    "        print(f\"Edad humana 22\")\n",
    "    elif años>2:\n",
    "        años_humanos= ((años-2) * 5) + 22\n",
    "        print(f\"Edad humana {años_humanos}\")"
   ]
  },
  {
   "cell_type": "code",
   "execution_count": 63,
   "id": "da777af9",
   "metadata": {},
   "outputs": [
    {
     "name": "stdout",
     "output_type": "stream",
     "text": [
      "Edad humana 32\n"
     ]
    }
   ],
   "source": [
    "edad_humana(4)"
   ]
  },
  {
   "cell_type": "code",
   "execution_count": null,
   "id": "9c59c801-1fe1-4a6d-a000-f85ca738ed00",
   "metadata": {},
   "outputs": [],
   "source": [
    "\n"
   ]
  },
  {
   "cell_type": "markdown",
   "id": "2991309f-4208-431a-900c-d9bc734bb936",
   "metadata": {},
   "source": [
    "#### Ejercicio 4. \n",
    "\n",
    "Escribe un programa que te diga si una frase es un pangrama. Un pangrama es una frase que contiene todas las letras del alfabeto.\n",
    "Puedes tener espacios en blanco, pero NO  tendrás signos de puntuación, a excepción de las tildes.\n",
    "\n",
    "Ejemplo de pangrama:\n",
    "\n",
    "Extraño pan de col y kiwi se quemó bajo fugaz vaho "
   ]
  },
  {
   "cell_type": "code",
   "execution_count": 64,
   "id": "9a349c1e-15ab-4253-97f8-2a07a263791d",
   "metadata": {},
   "outputs": [
    {
     "data": {
      "text/plain": [
       "27"
      ]
     },
     "execution_count": 64,
     "metadata": {},
     "output_type": "execute_result"
    }
   ],
   "source": [
    "alfabeto = [\"a\", \"b\", \"c\", \"d\", \"e\", \"f\", \"g\", \"h\", \"i\", \"j\", \"k\", \"l\", \"m\", \"n\", \"ñ\", \"o\", \"p\", \"q\", \"r\", \"s\", \"t\", \"u\", \"v\", \"w\", \"x\", \"y\", \"z\"]\n",
    "len(alfabeto)"
   ]
  },
  {
   "cell_type": "code",
   "execution_count": 65,
   "id": "fb177002",
   "metadata": {},
   "outputs": [
    {
     "name": "stdout",
     "output_type": "stream",
     "text": [
      "['e', 'x', 't', 'r', 'a', 'ñ', 'o', '', 'p', 'a', 'n', '', 'd', 'e', '', 'c', 'o', 'l', '', 'y', '', 'k', 'i', 'w', 'i', '', 's', 'e', '', 'q', 'u', 'e', 'm', 'ó', '', 'b', 'a', 'j', 'o', '', 'f', 'u', 'g', 'a', 'z', '', 'v', 'a', 'h', 'o']\n"
     ]
    }
   ],
   "source": [
    "#PRUEBAS, NO CONSEGUÍ ADIVINAR COMO QUITARLE EL ACENTO A LAS LETRAS, actualización: no hacía falta, comprobar mas abajo.\n",
    "prueba=\"Extraño pan de col y kiwi se quemó bajo fugaz vaho\"\n",
    "pruebab= []\n",
    "for i in prueba:\n",
    "    elemento= i.lower().strip()\n",
    "    pruebab.append(elemento)\n",
    "\n",
    "print(pruebab)"
   ]
  },
  {
   "cell_type": "code",
   "execution_count": 66,
   "id": "8f169018",
   "metadata": {},
   "outputs": [],
   "source": [
    "def panagrama(frase):\n",
    "    alfabeto = [\"a\", \"b\", \"c\", \"d\", \"e\", \"f\", \"g\", \"h\", \"i\", \"j\", \"k\", \"l\", \"m\", \"n\", \"ñ\", \"o\", \"p\", \"q\", \"r\", \"s\", \"t\", \"u\", \"v\", \"w\", \"x\", \"y\", \"z\"]\n",
    "    frase_segmentada= []\n",
    "    contador= 0\n",
    "    letras_comprobadas= []\n",
    "    for i in frase:#Aqui divido la frase.\n",
    "        elemento= i.lower().strip()\n",
    "        frase_segmentada.append(elemento)\n",
    "    for elemento in frase_segmentada:#Aqui compruebo si las letras estan dentro del alfabeto.\n",
    "        if elemento in alfabeto and (elemento not in letras_comprobadas):\n",
    "            contador += 1\n",
    "        letras_comprobadas.append(elemento)\n",
    "\n",
    "    if contador==27:\n",
    "        print(f\"la frase '{frase}', es un panagrama\")\n",
    "    else:\n",
    "        print(f\"la frase '{frase}', NO es un panagrama\")\n",
    "    \n",
    "    print(\"letras comprobadas:\", letras_comprobadas)\n",
    "    print(\"total de letras del alfabeto contenidas en la frase:\", contador)"
   ]
  },
  {
   "cell_type": "code",
   "execution_count": 67,
   "id": "5f811716",
   "metadata": {},
   "outputs": [
    {
     "name": "stdout",
     "output_type": "stream",
     "text": [
      "la frase 'aj kp hugo', NO es un panagrama\n",
      "letras comprobadas: ['a', 'j', '', 'k', 'p', '', 'h', 'u', 'g', 'o']\n",
      "total de letras del alfabeto contenidas en la frase: 8\n",
      "\n",
      "\n",
      "la frase 'Extraño pan de col y kiwi se quemó bajo fugaz vaho', es un panagrama\n",
      "letras comprobadas: ['e', 'x', 't', 'r', 'a', 'ñ', 'o', '', 'p', 'a', 'n', '', 'd', 'e', '', 'c', 'o', 'l', '', 'y', '', 'k', 'i', 'w', 'i', '', 's', 'e', '', 'q', 'u', 'e', 'm', 'ó', '', 'b', 'a', 'j', 'o', '', 'f', 'u', 'g', 'a', 'z', '', 'v', 'a', 'h', 'o']\n",
      "total de letras del alfabeto contenidas en la frase: 27\n",
      "\n",
      "\n",
      "la frase 'Extraño pan de col y kiwi se quemó bajo sucio vaho', NO es un panagrama\n",
      "letras comprobadas: ['e', 'x', 't', 'r', 'a', 'ñ', 'o', '', 'p', 'a', 'n', '', 'd', 'e', '', 'c', 'o', 'l', '', 'y', '', 'k', 'i', 'w', 'i', '', 's', 'e', '', 'q', 'u', 'e', 'm', 'ó', '', 'b', 'a', 'j', 'o', '', 's', 'u', 'c', 'i', 'o', '', 'v', 'a', 'h', 'o']\n",
      "total de letras del alfabeto contenidas en la frase: 24\n"
     ]
    }
   ],
   "source": [
    "panagrama(\"aj kp hugo\")\n",
    "print(\"\\n\")\n",
    "panagrama(\"Extraño pan de col y kiwi se quemó bajo fugaz vaho\")#a pesar del acento sigue reconociendo ó como o, esto hace que el modelo funcione aun cuando haya acentos.\n",
    "print(\"\\n\")\n",
    "panagrama(\"Extraño pan de col y kiwi se quemó bajo sucio vaho\")"
   ]
  },
  {
   "cell_type": "markdown",
   "id": "3dbb76e0-79b2-45e8-9034-58ee9cbd82bb",
   "metadata": {},
   "source": [
    "#### Ejercicio 5. \n",
    "\n",
    "Escribe un programa que use diccionarios para traducir palabras entre varios idiomas.\n",
    "Deberás pedirle al usuario una palabra por teclado, ver si está en tu diccionario. En caso de que esté, deberás mostrar la traducción de esa palabra.\n",
    "\n",
    "Ejemplo de diccionario:\n",
    "\n",
    "```python\n",
    "{\"file\": \"Fichier\", \"new\": \"Nouveau\", \"open\": \"Ouvrir\", \"save\": \"Enregistrer\", \"save as\": \"Enregistrer sous\", \"print preview\": \"Apercu avant impressioner\", \"print\": \"Imprimer\", \"close\": \"Fermer\", \"exit\": \"Quitter\"}\n"
   ]
  },
  {
   "cell_type": "code",
   "execution_count": 68,
   "id": "88236123-e8ac-45da-87d0-134a88a690c1",
   "metadata": {},
   "outputs": [],
   "source": [
    "traducciones={\"file\": \"Fichier\", \"new\": \"Nouveau\", \"open\": \"Ouvrir\", \"save\": \"Enregistrer\", \"save as\": \"Enregistrer sous\", \"print preview\": \"Apercu avant impressioner\", \"print\": \"Imprimer\", \"close\": \"Fermer\", \"exit\": \"Quitter\"}\n",
    "#copié el diccionario aportado por el enunciado."
   ]
  },
  {
   "cell_type": "code",
   "execution_count": 69,
   "id": "e2d9b43d",
   "metadata": {},
   "outputs": [],
   "source": [
    "def traductor(): #Lo meto dentro de la función para no tener que repetir el codigo en varias pruebas en la celda de abajo\n",
    "    palabra= input(\"introduce una palabra en ingles para traducirla al español\") #Input para pedir al usuario que introduzca la palabra.\n",
    "\n",
    "    if palabra in traducciones.keys(): #Uso el in para saber si tengo la palabra en el diccionario, si lo está entrego el value del key, que es la traducción.\n",
    "        print(f\"la traducción de {palabra} al frances es {traducciones[palabra]}\")\n",
    "    if palabra not in traducciones.keys():#Si no lo está, se lo comento al usuario.\n",
    "        print(f\"Lo sentimos pero nuestro diccionario no cuenta con la traducción de la palabra introducida: {palabra}\")"
   ]
  },
  {
   "cell_type": "code",
   "execution_count": 70,
   "id": "279ccd10",
   "metadata": {},
   "outputs": [
    {
     "name": "stdout",
     "output_type": "stream",
     "text": [
      "la traducción de new al frances es Nouveau\n",
      "Lo sentimos pero nuestro diccionario no cuenta con la traducción de la palabra introducida: wonderfull\n"
     ]
    }
   ],
   "source": [
    "traductor()\n",
    "traductor()"
   ]
  },
  {
   "cell_type": "code",
   "execution_count": null,
   "id": "ca6e3a85",
   "metadata": {},
   "outputs": [],
   "source": []
  },
  {
   "cell_type": "markdown",
   "id": "61967ca4-7e06-44b3-ad7b-adbc0e71671a",
   "metadata": {},
   "source": [
    "#### Ejercicio 6. (Bonus).\n",
    "\n",
    "Usando `OOP` modela un theremin (es un instrumento musical que se toca modificando el campo electromagnético, por si tenías curiosidad).\n",
    "Tendrá de atributos la marca, el modelo, el peso, la potencia y la batería.\n",
    "\n",
    "Todos los instrumentos se crean con un peso predeterminado de 500, una potencia de 50 y una batería de 200.\n",
    "\n",
    "Cuando se recarga la batería vale 200.\n",
    "\n",
    "Cuando se toca, se muestra por pantalla que está sonando y la batería disminuye 10 (no siendo nunca negativo).\n",
    "Si no hay batería, no puede sonar. Crea un instrumento, tócalo mientras quede batería, cárgalo y no lo vuelvas a tocar.\n"
   ]
  },
  {
   "cell_type": "code",
   "execution_count": null,
   "id": "8082c8cd-03a9-478e-aa72-4ec1306e1bb2",
   "metadata": {},
   "outputs": [],
   "source": []
  },
  {
   "cell_type": "markdown",
   "id": "30f773b5-a6da-4446-b36b-722b2ee57730",
   "metadata": {},
   "source": [
    "#### Ejercicio 7. Extra (NO PUNTÚA).\n",
    "Una empresa usa dos listas  para guardar la información de sus empleados. Una lista guarda el nombre del empleado y la otra guarda su salario. Escribe un programa que cree esas dos listas originalmente vacías y que a través de un menú pueda hacer lo siguiente:\n",
    "    \n",
    "Inserta 1 para añadir un nuevo empleado y su salario\n",
    "\n",
    "Inserta 2 para imprimir los nombres y salarios de todos los empleados\n",
    "\n",
    "Inserta 3 para mostrar el número de empleados\n",
    "\n",
    "Inserta 4 para imprimir los nombres de los empleados con sueldos superiores a 400000\n",
    "\n",
    "Inserta 5 para subir un 5% los sueldos por debajo de 10000\n",
    "\n",
    "Inserta 6 para mostrar el total de todos los salarios\n",
    "\n",
    "Inserta 7 para salir del programa"
   ]
  },
  {
   "cell_type": "code",
   "execution_count": null,
   "id": "67858e27-b7f5-4e05-bc50-3fca698ad22a",
   "metadata": {},
   "outputs": [],
   "source": []
  },
  {
   "cell_type": "markdown",
   "id": "e33a0e21-476e-4103-b889-a6b3e76b99f3",
   "metadata": {},
   "source": [
    "\n",
    "####  Ejercicio 8. EXTRA (NO PUNTÚA).\n",
    "\n",
    "Escribe un programa que __USE RECURSIVIDAD__ para decidir cuál es la película de Pixar favorita de un usuario.\n",
    "El programa preguntará al usuario cuál de 2 películas es su favorita, y con esa favorita se le volverá a preguntar entre esa y otra película cuál es su favorita...y así hasta que el usuario haya decidido de entre todas cuál es su favorita.\n",
    "\n",
    "Pista: si no quieres cambiar una lista, usa copy() y tendrás una copia que es otro objeto\n",
    "\n"
   ]
  },
  {
   "cell_type": "code",
   "execution_count": null,
   "id": "c9936fd4-6d29-4535-9f34-a6f289d18d8b",
   "metadata": {},
   "outputs": [],
   "source": []
  },
  {
   "cell_type": "code",
   "execution_count": 71,
   "id": "10a7b881",
   "metadata": {},
   "outputs": [],
   "source": [
    "# FIN DEL EXAMEN"
   ]
  }
 ],
 "metadata": {
  "kernelspec": {
   "display_name": "Python 3",
   "language": "python",
   "name": "python3"
  },
  "language_info": {
   "codemirror_mode": {
    "name": "ipython",
    "version": 3
   },
   "file_extension": ".py",
   "mimetype": "text/x-python",
   "name": "python",
   "nbconvert_exporter": "python",
   "pygments_lexer": "ipython3",
   "version": "3.11.3"
  }
 },
 "nbformat": 4,
 "nbformat_minor": 5
}
